{
 "cells": [
  {
   "cell_type": "markdown",
   "id": "daeef215",
   "metadata": {},
   "source": [
    "Week 4 Workshop"
   ]
  },
  {
   "cell_type": "code",
   "execution_count": 3,
   "id": "86b2b3c9",
   "metadata": {},
   "outputs": [
    {
     "name": "stdout",
     "output_type": "stream",
     "text": [
      "You are eligible for the loan\n"
     ]
    }
   ],
   "source": [
    "# Challenge 4: Conditional with logical operators\n",
    "age = input(\"How old are you?\")\n",
    "income = input(\"How much is your income?\") \n",
    "try:\n",
    "    if int(age) >= 18 and int(income) >= 50000:\n",
    "        print(\"You are eligible for the loan\")\n",
    "    else:\n",
    "        print(\"You are not eligible for the loan\")\n",
    "except:\n",
    "    print(\"Invalid input. Please enter a valid number.\")"
   ]
  },
  {
   "cell_type": "code",
   "execution_count": 9,
   "id": "c9d945dd",
   "metadata": {},
   "outputs": [
    {
     "name": "stdout",
     "output_type": "stream",
     "text": [
      "Valid age\n"
     ]
    }
   ],
   "source": [
    "# Challenge 5: Conditional with error handling\n",
    "age = input(\"How old are you?\")\n",
    "try:\n",
    "    if 0 <= int(age) <= 120:\n",
    "        print(\"Valid age\")\n",
    "    else:\n",
    "        print(\"Age out of range\")\n",
    "except:\n",
    "    print(\"Invalid input. Please enter a whole number.\")"
   ]
  },
  {
   "cell_type": "code",
   "execution_count": null,
   "id": "595178f8",
   "metadata": {},
   "outputs": [],
   "source": []
  },
  {
   "cell_type": "code",
   "execution_count": null,
   "id": "1ca6cbab",
   "metadata": {},
   "outputs": [],
   "source": []
  }
 ],
 "metadata": {
  "kernelspec": {
   "display_name": "bootcamp",
   "language": "python",
   "name": "python3"
  },
  "language_info": {
   "codemirror_mode": {
    "name": "ipython",
    "version": 3
   },
   "file_extension": ".py",
   "mimetype": "text/x-python",
   "name": "python",
   "nbconvert_exporter": "python",
   "pygments_lexer": "ipython3",
   "version": "3.10.16"
  }
 },
 "nbformat": 4,
 "nbformat_minor": 5
}
