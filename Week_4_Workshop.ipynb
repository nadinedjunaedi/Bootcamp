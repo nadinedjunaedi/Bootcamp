{
 "cells": [
  {
   "cell_type": "markdown",
   "id": "daeef215",
   "metadata": {},
   "source": [
    "Week 4 Workshop"
   ]
  },
  {
   "cell_type": "code",
   "execution_count": 32,
   "id": "86b2b3c9",
   "metadata": {},
   "outputs": [
    {
     "name": "stdout",
     "output_type": "stream",
     "text": [
      "You are not eligible for the loan\n"
     ]
    }
   ],
   "source": [
    "# Challenge 4: Conditional with logical operators\n",
    "age = float(input(\"How old are you?\")) # directly convert age to float\n",
    "income = float(input(\"How much is your income?\")) # directly convert income to float\n",
    "if age >= 18 and income >= 50000:\n",
    "    print(\"You are eligible for the loan\")\n",
    "else:\n",
    "    print(\"You are not eligible for the loan\")"
   ]
  },
  {
   "cell_type": "code",
   "execution_count": 23,
   "id": "c9d945dd",
   "metadata": {},
   "outputs": [
    {
     "name": "stdout",
     "output_type": "stream",
     "text": [
      "Valid age\n"
     ]
    }
   ],
   "source": [
    "# Challenge 5: Conditional with error handling\n",
    "age = int(input(\"How old are you?\"))\n",
    "try:\n",
    "    if type(age) != int:\n",
    "        print(\"Invalid input. Please enter a valid number\")\n",
    "    elif age >= 0 and age <= 120:\n",
    "        print(\"Valid age\")\n",
    "    else:\n",
    "        print(\"Age out of range\")\n",
    "except:\n",
    "    print(\"Invalid input. Please enter a whole number.\")"
   ]
  },
  {
   "cell_type": "code",
   "execution_count": null,
   "id": "595178f8",
   "metadata": {},
   "outputs": [],
   "source": []
  }
 ],
 "metadata": {
  "kernelspec": {
   "display_name": "bootcamp",
   "language": "python",
   "name": "python3"
  },
  "language_info": {
   "codemirror_mode": {
    "name": "ipython",
    "version": 3
   },
   "file_extension": ".py",
   "mimetype": "text/x-python",
   "name": "python",
   "nbconvert_exporter": "python",
   "pygments_lexer": "ipython3",
   "version": "3.10.16"
  }
 },
 "nbformat": 4,
 "nbformat_minor": 5
}
