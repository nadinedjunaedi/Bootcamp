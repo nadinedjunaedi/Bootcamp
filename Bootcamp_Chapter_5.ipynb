{
 "cells": [
  {
   "cell_type": "markdown",
   "id": "892e9590",
   "metadata": {},
   "source": [
    "Chapter 5: Functions"
   ]
  },
  {
   "cell_type": "markdown",
   "id": "3dab6467",
   "metadata": {},
   "source": [
    "Creating and calling functions"
   ]
  },
  {
   "cell_type": "code",
   "execution_count": 1,
   "id": "122e8ef8",
   "metadata": {},
   "outputs": [
    {
     "name": "stdout",
     "output_type": "stream",
     "text": [
      "Name: John Smith\n",
      "Age: 45\n",
      "Name: John Smith\n",
      "Age: 45\n"
     ]
    }
   ],
   "source": [
    "# writing your first function\n",
    "def printInfo():        # defines what the function does when called\n",
    "    print(\"Name: John Smith\")\n",
    "    print(\"Age: 45\")\n",
    "printInfo()             # calls the function to run\n",
    "printInfo()             # calls the function to run again"
   ]
  },
  {
   "cell_type": "code",
   "execution_count": 2,
   "id": "7c871910",
   "metadata": {},
   "outputs": [
    {
     "name": "stdout",
     "output_type": "stream",
     "text": [
      "15\n"
     ]
    }
   ],
   "source": [
    "# performing a calculation in a function\n",
    "def calc():\n",
    "    x, y = 5, 10\n",
    "    print(x + y)\n",
    "calc()   # will run the block of code within calc and output 15"
   ]
  },
  {
   "cell_type": "code",
   "execution_count": 3,
   "id": "444988e6",
   "metadata": {},
   "outputs": [
    {
     "name": "stdout",
     "output_type": "stream",
     "text": [
      "Nadine\n"
     ]
    }
   ],
   "source": [
    "# Monday exercise 1\n",
    "def myName():\n",
    "    print(\"Nadine\")\n",
    "myName()"
   ]
  },
  {
   "cell_type": "code",
   "execution_count": 4,
   "id": "99ff7b02",
   "metadata": {},
   "outputs": [
    {
     "name": "stdout",
     "output_type": "stream",
     "text": [
      "cheese, mushroom, prosciutto\n",
      "cheese, mushroom, prosciutto\n",
      "cheese, mushroom, prosciutto\n"
     ]
    }
   ],
   "source": [
    "# Monday exercise 2\n",
    "def pizzaToppings():\n",
    "    print(\"cheese, mushroom, prosciutto\")\n",
    "pizzaToppings()\n",
    "pizzaToppings()\n",
    "pizzaToppings()\n"
   ]
  },
  {
   "cell_type": "markdown",
   "id": "644e2ff4",
   "metadata": {},
   "source": [
    "Parameters"
   ]
  },
  {
   "cell_type": "code",
   "execution_count": 5,
   "id": "b1c66068",
   "metadata": {},
   "outputs": [
    {
     "name": "stdout",
     "output_type": "stream",
     "text": [
      "Your name is: John Smith\n",
      "Your name is: Amanda\n"
     ]
    }
   ],
   "source": [
    "# passing a single parameter into a function\n",
    "def printName(full_name):\n",
    "    print(\"Your name is: {}\".format(full_name))\n",
    "printName(\"John Smith\")\n",
    "printName(\"Amanda\")"
   ]
  },
  {
   "cell_type": "code",
   "execution_count": 6,
   "id": "2a3c985d",
   "metadata": {},
   "outputs": [
    {
     "name": "stdout",
     "output_type": "stream",
     "text": [
      "5 + 8 = 13\n",
      "3.5 + 5.5 = 9.0\n"
     ]
    }
   ],
   "source": [
    "# passing multiple parameters into a function\n",
    "def addNums(num1, num2):\n",
    "    result = num1 + num2\n",
    "    print(\"{} + {} = {}\".format(num1, num2, result))\n",
    "addNums(5, 8)      # will output 13\n",
    "addNums(3.5, 5.5)  # will output 9.0"
   ]
  },
  {
   "cell_type": "code",
   "execution_count": 7,
   "id": "479ee1a5",
   "metadata": {},
   "outputs": [
    {
     "name": "stdout",
     "output_type": "stream",
     "text": [
      "4\n",
      "16\n",
      "25\n",
      "100\n",
      "1\n",
      "9\n",
      "36\n"
     ]
    }
   ],
   "source": [
    "# using a function to square all information\n",
    "numbers1 = [2, 4, 5, 10]\n",
    "numbers2 = [1, 3, 6]\n",
    "def squares(nums):\n",
    "    for num in nums:\n",
    "        print(num**2)\n",
    "squares(numbers1)\n",
    "squares(numbers2)"
   ]
  },
  {
   "cell_type": "code",
   "execution_count": 8,
   "id": "9b97561b",
   "metadata": {},
   "outputs": [
    {
     "name": "stdout",
     "output_type": "stream",
     "text": [
      "Area: 12.56\n"
     ]
    }
   ],
   "source": [
    "# setting default parameter values\n",
    "def calcArea(r, pi=3.14):\n",
    "    area = pi * (r**2)\n",
    "    print(\"Area: {}\".format(area))\n",
    "calcArea(2)  # assuming radius is the value of 2"
   ]
  },
  {
   "cell_type": "code",
   "execution_count": 9,
   "id": "73924225",
   "metadata": {},
   "outputs": [
    {
     "name": "stdout",
     "output_type": "stream",
     "text": [
      "John Smith\n",
      "John Paul Smith\n"
     ]
    }
   ],
   "source": [
    "# setting default parameter values\n",
    "def printName(first, last, middle=\"\"):\n",
    "    if middle:\n",
    "        print(\"{} {} {}\".format(first, middle, last))\n",
    "    else:\n",
    "        print(\"{} {}\".format(first, last))\n",
    "printName(\"John\", \"Smith\")\n",
    "printName(\"John\", \"Smith\", \"Paul\")  # will output with middle name"
   ]
  },
  {
   "cell_type": "code",
   "execution_count": 10,
   "id": "2cdec0b6",
   "metadata": {},
   "outputs": [
    {
     "name": "stdout",
     "output_type": "stream",
     "text": [
      "2.5\n",
      "5\n"
     ]
    }
   ],
   "source": [
    "# explicitly assigning value to parameters by referencing the name\n",
    "def addNums(num1, num2):\n",
    "    print(num2)\n",
    "    print(num1)\n",
    "addNums(5, num2 = 2.5)"
   ]
  },
  {
   "cell_type": "code",
   "execution_count": 11,
   "id": "5498fa67",
   "metadata": {},
   "outputs": [
    {
     "name": "stdout",
     "output_type": "stream",
     "text": [
      "<class 'tuple'>\n",
      "5\n",
      "True\n",
      "Jess\n"
     ]
    }
   ],
   "source": [
    "# using args parameter to take in a tuple of arbitrary values\n",
    "def outputData(name, *args):\n",
    "    print(type(args))\n",
    "    for arg in args:\n",
    "        print(arg)\n",
    "outputData(\"John Smith\", 5, True, \"Jess\")"
   ]
  },
  {
   "cell_type": "code",
   "execution_count": 12,
   "id": "80784db3",
   "metadata": {},
   "outputs": [
    {
     "name": "stdout",
     "output_type": "stream",
     "text": [
      "<class 'dict'>\n",
      "John Smith\n",
      "5\n"
     ]
    }
   ],
   "source": [
    "# using kwargs parameter to take in a dictionary of arbitrary values\n",
    "def outputData(**kwargs):\n",
    "    print(type(kwargs))\n",
    "    print(kwargs[\"name\"])\n",
    "    print(kwargs[\"num\"])\n",
    "outputData(name = \"John Smith\", num = 5, b = True)"
   ]
  },
  {
   "cell_type": "code",
   "execution_count": 17,
   "id": "cf4e4295",
   "metadata": {},
   "outputs": [
    {
     "name": "stdout",
     "output_type": "stream",
     "text": [
      "True\n"
     ]
    }
   ],
   "source": [
    "# Tuesday exercise 1\n",
    "word = input(\"Input a word:\")\n",
    "def printWord(word):\n",
    "    if word[0].isupper():\n",
    "        print(\"True\")\n",
    "    else:\n",
    "        print(\"False\")\n",
    "printWord(word)"
   ]
  },
  {
   "cell_type": "code",
   "execution_count": 22,
   "id": "c9a936df",
   "metadata": {},
   "outputs": [
    {
     "name": "stdout",
     "output_type": "stream",
     "text": [
      "John Smith\n",
      "No name passed in\n",
      "John \n"
     ]
    }
   ],
   "source": [
    "# Tuesday exercise 2\n",
    "def noName(first_name=\"\", last_name=\"\"):\n",
    "    if first_name:\n",
    "        print(\"{} {}\".format(first_name, last_name))\n",
    "    else:\n",
    "        print(\"No name passed in\")\n",
    "noName(\"John\",\"Smith\")\n",
    "noName()\n",
    "noName(\"John\")"
   ]
  },
  {
   "cell_type": "markdown",
   "id": "29bb53a9",
   "metadata": {},
   "source": [
    "Return statement"
   ]
  },
  {
   "cell_type": "code",
   "execution_count": 23,
   "id": "cf426424",
   "metadata": {},
   "outputs": [
    {
     "name": "stdout",
     "output_type": "stream",
     "text": [
      "10.0\n",
      "20\n"
     ]
    }
   ],
   "source": [
    "# using return keyword to return the sum of two numbers\n",
    "def addNums(num1, num2):\n",
    "    return num1 + num2\n",
    "num = addNums(5.5, 4.5)  # saves returned value into num\n",
    "print(num)\n",
    "print(addNums(10, 10))   # doesn't save returned value"
   ]
  },
  {
   "cell_type": "code",
   "execution_count": 25,
   "id": "c82abf32",
   "metadata": {},
   "outputs": [
    {
     "name": "stdout",
     "output_type": "stream",
     "text": [
      "True\n"
     ]
    }
   ],
   "source": [
    "# shorthand syntax using a ternary operator\n",
    "def searchList(aList, el):\n",
    "    return True if el in aList else False\n",
    "result = searchList([\"one\", 2, \"three\"], 2) # result = True\n",
    "print(result)"
   ]
  },
  {
   "cell_type": "code",
   "execution_count": 28,
   "id": "51a43772",
   "metadata": {},
   "outputs": [
    {
     "name": "stdout",
     "output_type": "stream",
     "text": [
      "Nadine Valencia\n"
     ]
    }
   ],
   "source": [
    "# Wednesday exercise 1\n",
    "firstName = input(\"Enter your first name\")\n",
    "lastName = input(\"Enter your last name\")\n",
    "def fullName(firstName, lastName):\n",
    "    return(\"{} {}\".format(firstName, lastName))\n",
    "print(fullName(firstName, lastName))"
   ]
  },
  {
   "cell_type": "code",
   "execution_count": 30,
   "id": "46fffafd",
   "metadata": {},
   "outputs": [
    {
     "name": "stdout",
     "output_type": "stream",
     "text": [
      "tomato\n"
     ]
    }
   ],
   "source": [
    "# Wednesday exercise 2\n",
    "def userInput(word):\n",
    "    word = input(\"Input a word\")\n",
    "    return word\n",
    "userWord = userInput(word)\n",
    "print(userWord)"
   ]
  },
  {
   "cell_type": "markdown",
   "id": "c97e446b",
   "metadata": {},
   "source": [
    "Scope"
   ]
  },
  {
   "cell_type": "code",
   "execution_count": 31,
   "id": "54e67a74",
   "metadata": {},
   "outputs": [
    {
     "ename": "UnboundLocalError",
     "evalue": "local variable 'number' referenced before assignment",
     "output_type": "error",
     "traceback": [
      "\u001b[1;31m---------------------------------------------------------------------------\u001b[0m",
      "\u001b[1;31mUnboundLocalError\u001b[0m                         Traceback (most recent call last)",
      "Cell \u001b[1;32mIn[31], line 5\u001b[0m\n\u001b[0;32m      3\u001b[0m \u001b[38;5;28;01mdef\u001b[39;00m\u001b[38;5;250m \u001b[39m\u001b[38;5;21mscopeTest\u001b[39m():\n\u001b[0;32m      4\u001b[0m     number \u001b[38;5;241m+\u001b[39m\u001b[38;5;241m=\u001b[39m \u001b[38;5;241m1\u001b[39m  \u001b[38;5;66;03m# not accessible due to function level scope\u001b[39;00m\n\u001b[1;32m----> 5\u001b[0m \u001b[43mscopeTest\u001b[49m\u001b[43m(\u001b[49m\u001b[43m)\u001b[49m\n",
      "Cell \u001b[1;32mIn[31], line 4\u001b[0m, in \u001b[0;36mscopeTest\u001b[1;34m()\u001b[0m\n\u001b[0;32m      3\u001b[0m \u001b[38;5;28;01mdef\u001b[39;00m\u001b[38;5;250m \u001b[39m\u001b[38;5;21mscopeTest\u001b[39m():\n\u001b[1;32m----> 4\u001b[0m     number \u001b[38;5;241m+\u001b[39m\u001b[38;5;241m=\u001b[39m \u001b[38;5;241m1\u001b[39m\n",
      "\u001b[1;31mUnboundLocalError\u001b[0m: local variable 'number' referenced before assignment"
     ]
    }
   ],
   "source": [
    "# where global variables can be accessed\n",
    "number = 5\n",
    "def scopeTest():\n",
    "    number += 1  # not accessible due to function level scope\n",
    "scopeTest()"
   ]
  },
  {
   "cell_type": "code",
   "execution_count": 32,
   "id": "0f5fbfa3",
   "metadata": {},
   "outputs": [
    {
     "name": "stdout",
     "output_type": "stream",
     "text": [
      "function\n"
     ]
    }
   ],
   "source": [
    "# accessing variables defined in a function\n",
    "def scopeTest():\n",
    "    word = \"function\"\n",
    "    return word\n",
    "value = scopeTest()\n",
    "print(value)"
   ]
  },
  {
   "cell_type": "code",
   "execution_count": 34,
   "id": "00804114",
   "metadata": {},
   "outputs": [
    {
     "name": "stdout",
     "output_type": "stream",
     "text": [
      "Before Altering: ['baseball', 'football', 'hockey', 'basketball']\n",
      "After Altering: ['soccer', 'football', 'hockey', 'basketball']\n"
     ]
    }
   ],
   "source": [
    "# changing list item values by index\n",
    "sports = [\"baseball\", \"football\", \"hockey\", \"basketball\"]\n",
    "def change(aList):\n",
    "    aList[0] = \"soccer\"\n",
    "print(\"Before Altering: {}\".format(sports))\n",
    "change(sports)\n",
    "print(\"After Altering: {}\".format(sports))"
   ]
  },
  {
   "cell_type": "code",
   "execution_count": 37,
   "id": "b63a94cb",
   "metadata": {},
   "outputs": [
    {
     "name": "stdout",
     "output_type": "stream",
     "text": [
      "After Altering: ['Bob', 'Bill', 'Amanda']\n"
     ]
    }
   ],
   "source": [
    "# Thursday exercise\n",
    "names = ['Bob', 'Rich', 'Amanda']\n",
    "def changeValue(aList, name, index):\n",
    "    aList[1] = \"Bill\"\n",
    "changeValue(names, \"Bill\", 1)\n",
    "print(\"After Altering: {}\".format(names))"
   ]
  },
  {
   "cell_type": "code",
   "execution_count": null,
   "id": "4ca5d87d",
   "metadata": {},
   "outputs": [
    {
     "name": "stdout",
     "output_type": "stream",
     "text": [
      "After Altering: ['Bob', 'Bill', 'Amanda']\n"
     ]
    }
   ],
   "source": [
    "# Thursday exercise\n",
    "names = ['Bob', 'Rich', 'Amanda']\n",
    "def changeValue(aList, name, index):\n",
    "    name = input(\"Input a name to replace\")\n",
    "    index = int(input(\"Input an index number\"))\n",
    "    aList[index] = name \n",
    "changeValue(names, \"\", \"\")\n",
    "print(\"After Altering: {}\".format(names))"
   ]
  },
  {
   "cell_type": "markdown",
   "id": "429accbf",
   "metadata": {},
   "source": [
    "Friday Project: Creating a shopping cart"
   ]
  },
  {
   "cell_type": "code",
   "execution_count": 10,
   "id": "545d5a1b",
   "metadata": {},
   "outputs": [
    {
     "name": "stdout",
     "output_type": "stream",
     "text": [
      "Here is your cart:\n",
      "- Butter\n",
      "- Milk\n",
      "- Eggs\n",
      "Thanks for using our program.\n"
     ]
    }
   ],
   "source": [
    "# import necessary functions\n",
    "from IPython.display import clear_output\n",
    "# global list variable\n",
    "cart = []\n",
    "# create function to add items to cart\n",
    "def addItem(item):\n",
    "    clear_output()\n",
    "    cart.append(item)\n",
    "    print(\"{} has been added.\".format(item))\n",
    "# create function to remove items from cart\n",
    "def removeItem(item):\n",
    "    clear_output()\n",
    "    try:\n",
    "        cart.remove(item)\n",
    "        print(\"{} has been removed.\".format(item))\n",
    "    except:\n",
    "        print(\"Sorry we could not remove that item.\")\n",
    "# create a function to show items in cart\n",
    "def showCart():\n",
    "    clear_output()\n",
    "    if cart:\n",
    "        print(\"Here is your cart:\")\n",
    "        for item in cart:\n",
    "            print(\"- {}\".format(item))\n",
    "    else:\n",
    "        print(\"Your cart is empty.\")\n",
    "# create function to clear items from cart\n",
    "def clearCart():\n",
    "    clear_output()\n",
    "    cart.clear()\n",
    "    print(\"Your cart is empty.\")\n",
    "# create main function that loops until the user quits\n",
    "def main():\n",
    "    done = False\n",
    "    while not done:\n",
    "        ans = input(\"quit/add/remove/show/clear:\").lower()\n",
    "    # base case\n",
    "        if ans == \"quit\":\n",
    "            showCart()\n",
    "            print(\"Thanks for using our program.\")\n",
    "            done = True\n",
    "        elif ans == \"add\":\n",
    "            item = input(\"What would you like to add?\").title()\n",
    "            addItem(item)\n",
    "        elif ans == \"remove\":\n",
    "            showCart()\n",
    "            item = input(\"What item would you like to remove?\").title()\n",
    "            removeItem(item)\n",
    "        elif ans == \"show\":\n",
    "            showCart()\n",
    "        elif ans == \"clear\":\n",
    "            clearCart()\n",
    "        else:\n",
    "            print(\"Sorry that was not an option.\")\n",
    "main() # run the program"
   ]
  }
 ],
 "metadata": {
  "kernelspec": {
   "display_name": "bootcamp",
   "language": "python",
   "name": "python3"
  },
  "language_info": {
   "codemirror_mode": {
    "name": "ipython",
    "version": 3
   },
   "file_extension": ".py",
   "mimetype": "text/x-python",
   "name": "python",
   "nbconvert_exporter": "python",
   "pygments_lexer": "ipython3",
   "version": "3.10.16"
  }
 },
 "nbformat": 4,
 "nbformat_minor": 5
}
