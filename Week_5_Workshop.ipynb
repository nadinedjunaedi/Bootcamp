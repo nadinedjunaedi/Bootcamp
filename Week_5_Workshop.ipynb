{
 "cells": [
  {
   "cell_type": "markdown",
   "id": "bc91f597",
   "metadata": {},
   "source": [
    "Week 5 Workshop"
   ]
  },
  {
   "cell_type": "code",
   "execution_count": 23,
   "id": "40bceff4",
   "metadata": {},
   "outputs": [
    {
     "name": "stdout",
     "output_type": "stream",
     "text": [
      "5.0\n",
      "4.0\n",
      "3.0\n",
      "2.0\n",
      "1.0\n",
      "0.0\n",
      "Time's up!\n"
     ]
    }
   ],
   "source": [
    "# Challenge 5: Countdown timer\n",
    "# Helped by ChatGPT\n",
    "import time   # Built in function for time in python \n",
    "seconds = float(input(\"Enter a starting time in seconds:\"))  # Ask user for input\n",
    "while seconds >= 0:\n",
    "    print(seconds)\n",
    "    time.sleep(1)  # Delays execution for 1 second \n",
    "    seconds -= 1   # Subtracts 1 from each second\n",
    "print(\"Time's up!\")"
   ]
  },
  {
   "cell_type": "code",
   "execution_count": null,
   "id": "207ebceb",
   "metadata": {},
   "outputs": [],
   "source": []
  }
 ],
 "metadata": {
  "kernelspec": {
   "display_name": "bootcamp",
   "language": "python",
   "name": "python3"
  },
  "language_info": {
   "codemirror_mode": {
    "name": "ipython",
    "version": 3
   },
   "file_extension": ".py",
   "mimetype": "text/x-python",
   "name": "python",
   "nbconvert_exporter": "python",
   "pygments_lexer": "ipython3",
   "version": "3.10.16"
  }
 },
 "nbformat": 4,
 "nbformat_minor": 5
}
